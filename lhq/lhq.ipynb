{
 "cells": [
  {
   "cell_type": "code",
   "execution_count": 2,
   "id": "303c4a93-e9e7-4d11-893b-56c0628177dc",
   "metadata": {},
   "outputs": [
    {
     "name": "stderr",
     "output_type": "stream",
     "text": [
      "/Users/leandro/git/sandbox/env/lib/python3.9/site-packages/requests/__init__.py:102: RequestsDependencyWarning: urllib3 (1.26.7) or chardet (5.1.0)/charset_normalizer (2.0.9) doesn't match a supported version!\n",
      "  warnings.warn(\"urllib3 ({}) or chardet ({})/charset_normalizer ({}) doesn't match a supported \"\n"
     ]
    }
   ],
   "source": [
    "from datasets import load_dataset, Dataset, concatenate_datasets\n",
    "from tqdm import tqdm"
   ]
  },
  {
   "cell_type": "code",
   "execution_count": 3,
   "id": "0b06f563-f11b-40bb-9ede-b7fa6f8a99cc",
   "metadata": {},
   "outputs": [],
   "source": [
    "from huggingface_hub import HfApi\n",
    "\n",
    "api = HfApi()"
   ]
  },
  {
   "cell_type": "markdown",
   "id": "44050535-cb2e-4e75-a23f-210767aaf429",
   "metadata": {},
   "source": [
    "## DeepMind Mathematics"
   ]
  },
  {
   "cell_type": "code",
   "execution_count": null,
   "id": "d2e7aef7-7630-49d6-b236-6785f09dd3ed",
   "metadata": {},
   "outputs": [],
   "source": [
    "!ls ./data/mathematics_dataset-v1.0/"
   ]
  },
  {
   "cell_type": "code",
   "execution_count": null,
   "id": "29b651af-8cdd-492a-b6f6-cc69c28e0c0f",
   "metadata": {},
   "outputs": [],
   "source": [
    "train_folders = [\"train-easy\", \"train-medium\", \"train-hard\"]"
   ]
  },
  {
   "cell_type": "code",
   "execution_count": null,
   "id": "1f053b2a-b74c-4c6f-a1be-ad8dbd43b19b",
   "metadata": {
    "tags": []
   },
   "outputs": [],
   "source": [
    "data_folder = \"./data/mathematics_dataset-v1.0\"\n",
    "ds = []\n",
    "\n",
    "for folder in train_folders:\n",
    "    samples = []\n",
    "    difficulty = folder.split(\"-\")[1]\n",
    "    files = !ls {data_folder}/{folder}\n",
    "    for file in tqdm(files):\n",
    "        field, topic = file.split(\".\")[0].split(\"__\")\n",
    "        with open(f\"{data_folder}/{folder}/{file}\") as f:\n",
    "            data = f.read().split(\"\\n\")\n",
    "            assert len(data)%2!=0\n",
    "            for i in range(int(len(data)/2)):\n",
    "                sample = {\n",
    "                    \"content\": \"\\n\".join(data[2*i:2*(i+1)]),\n",
    "                    \"metadata\": {\n",
    "                        \"difficulty\": difficulty,\n",
    "                        \"field\": field,\n",
    "                        \"topic\": topic,\n",
    "                                }\n",
    "                }\n",
    "                samples.append(sample)\n",
    "    ds.append(Dataset.from_list(samples))"
   ]
  },
  {
   "cell_type": "code",
   "execution_count": null,
   "id": "c9bf6d21-c55d-41be-9063-57354320bf80",
   "metadata": {},
   "outputs": [],
   "source": [
    "ds_all = concatenate_datasets(ds)"
   ]
  },
  {
   "cell_type": "code",
   "execution_count": null,
   "id": "4e22760e-96c8-447a-8a6b-30c714c7a53d",
   "metadata": {},
   "outputs": [],
   "source": [
    "ds_all"
   ]
  },
  {
   "cell_type": "code",
   "execution_count": null,
   "id": "3c263474-dfb7-4945-a86d-0ed41a76f23b",
   "metadata": {},
   "outputs": [],
   "source": [
    "ds_all[10]"
   ]
  },
  {
   "cell_type": "code",
   "execution_count": null,
   "id": "ea7af7c6-8150-4ba1-87de-87aa382455c5",
   "metadata": {},
   "outputs": [],
   "source": [
    "ds_all.to_parquet(data_folder+\"/00000-data.parquet\")"
   ]
  },
  {
   "cell_type": "code",
   "execution_count": null,
   "id": "2f60c749-8aee-4756-827d-70b171c5f32d",
   "metadata": {},
   "outputs": [],
   "source": [
    "api.upload_file(\n",
    "    path_or_fileobj=data_folder+\"/00000-data.parquet\",\n",
    "    path_in_repo=\"data/deepmind_mathematics_dataset/00000-data.parquet\",\n",
    "    repo_id=\"bigcode/starcoder2-special\",\n",
    "    repo_type=\"dataset\",\n",
    "    commit_message=f\"Add DeepMind Math dataset\",\n",
    ")"
   ]
  },
  {
   "cell_type": "markdown",
   "id": "686b0e42-2d80-4264-a62f-834d2e364930",
   "metadata": {},
   "source": [
    "## GSM8K"
   ]
  },
  {
   "cell_type": "code",
   "execution_count": null,
   "id": "482cc832-859e-4036-90c2-4a8ce857e830",
   "metadata": {},
   "outputs": [],
   "source": [
    "!ls ./data/gsm8k-screl/"
   ]
  },
  {
   "cell_type": "code",
   "execution_count": null,
   "id": "f09028c5-94d8-4964-a90b-f3eddb3113e9",
   "metadata": {},
   "outputs": [],
   "source": [
    "import json\n",
    "\n",
    "data = []\n",
    "\n",
    "with open(\"./data/gsm8k-screl/u33b.jsonl\", \"r\") as f:\n",
    "    for line in f.readlines():\n",
    "        data_sample = json.loads(line)\n",
    "        data.append({\"content\": data_sample[\"query\"] + \"\\n\" + data_sample[\"response\"]})"
   ]
  },
  {
   "cell_type": "code",
   "execution_count": null,
   "id": "3ed095d0-1935-4ee6-a544-a06076d68b82",
   "metadata": {},
   "outputs": [],
   "source": [
    "ds = Dataset.from_list(data)"
   ]
  },
  {
   "cell_type": "code",
   "execution_count": null,
   "id": "c1dc3018-4eb8-4bc7-83d2-737a514f2998",
   "metadata": {},
   "outputs": [],
   "source": [
    "ds"
   ]
  },
  {
   "cell_type": "code",
   "execution_count": null,
   "id": "153d061a-1de7-4cc0-87d5-4f514310161d",
   "metadata": {},
   "outputs": [],
   "source": [
    "ds.to_parquet(\"./data/gsm8k-scirel-u33.parquet\")"
   ]
  },
  {
   "cell_type": "code",
   "execution_count": null,
   "id": "d8d5e9bf-3b4a-4ebb-b97e-7371d75b8cb2",
   "metadata": {},
   "outputs": [],
   "source": [
    "api.upload_file(\n",
    "    path_or_fileobj=\"./data/gsm8k-scirel-u33.parquet\",\n",
    "    path_in_repo=\"data/gsm8k-scirel-u33/00000-data.parquet\",\n",
    "    repo_id=\"bigcode/starcoder2-special\",\n",
    "    repo_type=\"dataset\",\n",
    "    commit_message=f\"Add GSM8K SciRel dataset\",\n",
    ")"
   ]
  },
  {
   "cell_type": "code",
   "execution_count": null,
   "id": "2778c3fc-1e2f-40f6-bf66-6aa535decff2",
   "metadata": {},
   "outputs": [],
   "source": [
    "ds_gsm8k = load_dataset(\"gsm8k\",\"main\", split=\"train\")"
   ]
  },
  {
   "cell_type": "code",
   "execution_count": null,
   "id": "6f0750b9-628d-4c59-bcc6-fa6c48598b22",
   "metadata": {},
   "outputs": [],
   "source": [
    "ds_gsm8k"
   ]
  },
  {
   "cell_type": "code",
   "execution_count": null,
   "id": "8db4c5ce-6114-4bf9-8984-57ee6095dba1",
   "metadata": {},
   "outputs": [],
   "source": [
    "ds_gsm8k[0]\n",
    "ds_gsm8k = ds_gsm8k.map(lambda x: {\"content\": x[\"question\"] + \"\\n\" + x[\"answer\"]})"
   ]
  },
  {
   "cell_type": "code",
   "execution_count": null,
   "id": "853a7de5-575e-46ec-8c88-085f53ac017c",
   "metadata": {},
   "outputs": [],
   "source": [
    "ds_gsm8k[0]"
   ]
  },
  {
   "cell_type": "code",
   "execution_count": null,
   "id": "06bef53c-59fa-4fd2-8f54-dd66477e175c",
   "metadata": {},
   "outputs": [],
   "source": [
    "ds_gsm8k = ds_gsm8k.remove_columns([\"question\", \"answer\"])"
   ]
  },
  {
   "cell_type": "code",
   "execution_count": null,
   "id": "0919dc58-6a9c-427a-bd12-251220dec13a",
   "metadata": {},
   "outputs": [],
   "source": [
    "ds_gsm8k.to_parquet(\"./data/gsm8k-train.parquet\")"
   ]
  },
  {
   "cell_type": "code",
   "execution_count": null,
   "id": "c91e1fc9-61f2-42ec-b6d4-c086a2b22ccf",
   "metadata": {},
   "outputs": [],
   "source": [
    "api.upload_file(\n",
    "    path_or_fileobj=\"./data/gsm8k-train.parquet\",\n",
    "    path_in_repo=\"data/gsm8k-train/00000-data.parquet\",\n",
    "    repo_id=\"bigcode/starcoder2-special\",\n",
    "    repo_type=\"dataset\",\n",
    "    commit_message=f\"Add GSM8K train dataset\",\n",
    ")"
   ]
  },
  {
   "cell_type": "markdown",
   "id": "9dc38b67-6a19-43ac-a754-812876a6c0f9",
   "metadata": {},
   "source": [
    "## APPS"
   ]
  },
  {
   "cell_type": "code",
   "execution_count": null,
   "id": "2675fab6-960d-4340-a5cf-f52938fcf179",
   "metadata": {},
   "outputs": [],
   "source": [
    "ds_apps = load_dataset(\"codeparrot/apps\", split=\"train\")"
   ]
  },
  {
   "cell_type": "code",
   "execution_count": null,
   "id": "3b6b5828-3ad9-48ee-b81d-2467b042ed96",
   "metadata": {},
   "outputs": [],
   "source": [
    "# from bigcode-evaluation-harness\n",
    "\n",
    "def get_prompt(doc):\n",
    "        \"\"\"Generate prompts for APPS\n",
    "        Finetuning setup: prompt=question  with some starter code and function name if they exist.\n",
    "        We also specify the type of the prompt, i.e. whether it is call-based or standard input-based.\n",
    "        \"\"\"\n",
    "        starter_code = None if len(doc[\"starter_code\"]) == 0 else doc[\"starter_code\"]\n",
    "        try:\n",
    "            input_outpout = json.loads(doc[\"input_output\"])\n",
    "            fn_name = (\n",
    "                None if not input_outpout.get(\"fn_name\") else input_outpout[\"fn_name\"]\n",
    "            )\n",
    "        except ValueError:\n",
    "            fn_name = None\n",
    "        prompt = \"\\nQUESTION:\\n\"\n",
    "        prompt += doc[\"question\"]\n",
    "        if starter_code:\n",
    "            prompt += starter_code\n",
    "        if not fn_name:\n",
    "            call_format = \"\\nUse Standard Input format\"\n",
    "            prompt += call_format\n",
    "        else:\n",
    "            call_format = \"\\nUse Call-Based format\"\n",
    "            prompt += call_format\n",
    "        prompt += \"\\nANSWER:\\n\"\n",
    "        prompt += json.loads(doc[\"solutions\"])[0]\n",
    "        return {\"content\": prompt}"
   ]
  },
  {
   "cell_type": "code",
   "execution_count": null,
   "id": "e34b257f-62cf-4ba5-935d-fec34ad548e2",
   "metadata": {},
   "outputs": [],
   "source": [
    "ds_apps = ds_apps.map(get_prompt)"
   ]
  },
  {
   "cell_type": "code",
   "execution_count": null,
   "id": "238eb247-3b34-4cc6-a8f4-4e7aabe1d704",
   "metadata": {},
   "outputs": [],
   "source": [
    "print(ds_apps[0][\"content\"])"
   ]
  },
  {
   "cell_type": "code",
   "execution_count": null,
   "id": "4e24d5f6-b88b-4ecc-bf33-71332d3a9d70",
   "metadata": {},
   "outputs": [],
   "source": [
    "ds_apps"
   ]
  },
  {
   "cell_type": "code",
   "execution_count": null,
   "id": "47ea9c32-8662-4f12-a144-7e9694123445",
   "metadata": {},
   "outputs": [],
   "source": [
    "ds_apps = ds_apps.remove_columns(['problem_id', 'question', 'solutions', 'input_output', 'difficulty', 'url', 'starter_code',])"
   ]
  },
  {
   "cell_type": "code",
   "execution_count": null,
   "id": "de4a6fd8-0229-4453-bf69-362cea54a765",
   "metadata": {},
   "outputs": [],
   "source": [
    "ds_apps"
   ]
  },
  {
   "cell_type": "code",
   "execution_count": null,
   "id": "bdb89632-f23c-4ca0-bbab-0d95dc0952a9",
   "metadata": {},
   "outputs": [],
   "source": [
    "ds_apps.to_parquet(\"./data/apps-train.parquet\")"
   ]
  },
  {
   "cell_type": "code",
   "execution_count": null,
   "id": "b49e40da-3f1f-4935-9963-768b76266dc3",
   "metadata": {},
   "outputs": [],
   "source": [
    "ds_apps.to_parquet(\"./data/apps-train.parquet\")\n",
    "\n",
    "api.upload_file(\n",
    "    path_or_fileobj=\"./data/apps-train.parquet\",\n",
    "    path_in_repo=\"data/apps-train/00000-data.parquet\",\n",
    "    repo_id=\"bigcode/starcoder2-special\",\n",
    "    repo_type=\"dataset\",\n",
    "    commit_message=f\"Add APPS train dataset\",\n",
    ")"
   ]
  },
  {
   "cell_type": "markdown",
   "id": "2f2a01f1-ce5b-4e2a-9440-16d5d69494d0",
   "metadata": {},
   "source": [
    "## Code Contest"
   ]
  },
  {
   "cell_type": "code",
   "execution_count": null,
   "id": "51a401cd-fd43-4e55-a286-70a94d36216e",
   "metadata": {},
   "outputs": [],
   "source": [
    "ds_cc = load_dataset(\"deepmind/code_contests\", split=\"train\")"
   ]
  },
  {
   "cell_type": "code",
   "execution_count": null,
   "id": "bdf1f725-97a8-40b8-8e8c-a0442d466718",
   "metadata": {},
   "outputs": [],
   "source": [
    "ds_cc"
   ]
  },
  {
   "cell_type": "code",
   "execution_count": null,
   "id": "9e9ffcb6-e4de-4c6d-b31c-fee4c4a33dc1",
   "metadata": {},
   "outputs": [],
   "source": [
    "print(ds_cc[1][\"name\"])\n",
    "print()\n",
    "print(ds_cc[1][\"description\"])\n",
    "print()\n",
    "print(ds_cc[1][\"solutions\"][\"solution\"][0])"
   ]
  },
  {
   "cell_type": "code",
   "execution_count": null,
   "id": "5044522f-7eaf-4e2b-a9b8-26524235846d",
   "metadata": {},
   "outputs": [],
   "source": [
    "from collections import Counter\n",
    "\n",
    "id2lang = {\n",
    "    0: \"uknown\",\n",
    "    1: \"Python 2\",\n",
    "    2: \"CPP\",\n",
    "    3: \"Python 3\",\n",
    "    4: \"Java\"\n",
    "}\n",
    "\n",
    "counter = Counter()\n",
    "\n",
    "for i in range(1000):\n",
    "    counter.update([id2lang[lang] for lang in ds_cc[i][\"solutions\"][\"language\"]])\n",
    "print(counter)"
   ]
  },
  {
   "cell_type": "code",
   "execution_count": null,
   "id": "4f2aec8a-5970-456c-9f9d-cc728a2f5bda",
   "metadata": {},
   "outputs": [],
   "source": [
    "def deduplicate_solutions(doc):\n",
    "    langs = []\n",
    "    solutions = []\n",
    "    \n",
    "    for solution, lang in zip(doc[\"solutions\"][\"solution\"], doc[\"solutions\"][\"language\"]):\n",
    "        if id2lang[lang] not in langs:\n",
    "            langs.append(id2lang[lang])\n",
    "            solutions.append(solution)\n",
    "            \n",
    "    return {\"clean_solutions\": solutions, \"clean_langs\": langs}"
   ]
  },
  {
   "cell_type": "code",
   "execution_count": null,
   "id": "3d81d495-212c-49de-927a-a03549a42649",
   "metadata": {},
   "outputs": [],
   "source": [
    "ds_cc = ds_cc.map(deduplicate_solutions)"
   ]
  },
  {
   "cell_type": "code",
   "execution_count": null,
   "id": "2e336a06-a77e-49cd-9417-94bd38bedb08",
   "metadata": {},
   "outputs": [],
   "source": [
    "def setup_content(doc):\n",
    "    content = doc[\"description\"]\n",
    "    content += \"\\n\"\n",
    "    for lang, sol in zip(doc[\"clean_langs\"], doc[\"clean_solutions\"]):\n",
    "        content += f\"Solution ({lang}):\"\n",
    "        content += sol\n",
    "        content += \"\\n\"\n",
    "    return {\"content\": content.strip()}"
   ]
  },
  {
   "cell_type": "code",
   "execution_count": null,
   "id": "d08b08fe-817d-4cac-9cb1-f16b208ed94a",
   "metadata": {},
   "outputs": [],
   "source": [
    "ds_cc = ds_cc.map(setup_content)"
   ]
  },
  {
   "cell_type": "code",
   "execution_count": null,
   "id": "670dc454-a234-4c4b-bb84-f071ccf95163",
   "metadata": {},
   "outputs": [],
   "source": [
    "ds_cc = ds_cc.remove_columns(['name', 'description', 'public_tests', 'private_tests', 'generated_tests', 'source', 'difficulty', 'solutions', 'incorrect_solutions', 'cf_contest_id', 'cf_index', 'cf_points', 'cf_rating', 'cf_tags', 'is_description_translated', 'untranslated_description', 'time_limit', 'memory_limit_bytes', 'input_file', 'output_file', 'clean_solutions', 'clean_langs'])"
   ]
  },
  {
   "cell_type": "code",
   "execution_count": null,
   "id": "a18f2f64-f86e-457d-bc8e-d78a760804cf",
   "metadata": {},
   "outputs": [],
   "source": [
    "ds_cc.to_parquet(\"./data/code-contest.parquet\")\n",
    "\n",
    "api.upload_file(\n",
    "    path_or_fileobj=\"./data/code-contest.parquet\",\n",
    "    path_in_repo=\"data/code-contest-train/00000-data.parquet\",\n",
    "    repo_id=\"bigcode/starcoder2-special\",\n",
    "    repo_type=\"dataset\",\n",
    "    commit_message=f\"Add Code Contest train dataset\",\n",
    ")"
   ]
  },
  {
   "cell_type": "markdown",
   "id": "ff376415-5b1e-4149-b1da-bf8390327207",
   "metadata": {},
   "source": [
    "## Rosetta"
   ]
  },
  {
   "cell_type": "code",
   "execution_count": 3,
   "id": "17e89d22-84b8-4b45-8e09-b01bb36c4a46",
   "metadata": {},
   "outputs": [
    {
     "name": "stderr",
     "output_type": "stream",
     "text": [
      "Found cached dataset parquet (/Users/leandro/.cache/huggingface/datasets/cakiki___parquet/cakiki--rosetta-code-c68b129ca95ba990/0.0.0/14a00e99c0d15a23649d0db8944380ac81082d4b021f398733dd84f3a6c569a7)\n"
     ]
    }
   ],
   "source": [
    "dataset = load_dataset(\"cakiki/rosetta-code\", split=\"train\")"
   ]
  },
  {
   "cell_type": "code",
   "execution_count": 4,
   "id": "c95efc4a-d01e-4956-8fbb-56bfb06272ee",
   "metadata": {},
   "outputs": [
    {
     "data": {
      "text/plain": [
       "Dataset({\n",
       "    features: ['task_url', 'task_name', 'task_description', 'language_url', 'language_name', 'code'],\n",
       "    num_rows: 79013\n",
       "})"
      ]
     },
     "execution_count": 4,
     "metadata": {},
     "output_type": "execute_result"
    }
   ],
   "source": [
    "dataset"
   ]
  },
  {
   "cell_type": "code",
   "execution_count": 5,
   "id": "9521bb32-f469-488b-af8e-70c2dcb826ed",
   "metadata": {},
   "outputs": [
    {
     "data": {
      "text/plain": [
       "{'task_url': 'http://rosettacode.org/wiki/Ascending_primes',\n",
       " 'task_name': 'Ascending primes',\n",
       " 'task_description': \"Generate and show all primes with strictly ascending decimal digits.\\n\\nAside: Try solving without peeking at existing solutions. I had a weird idea for generating\\na prime sieve faster, which needless to say didn't pan out. The solution may be p(r)etty trivial\\nbut generating them quickly is at least mildly interesting.\\nTip: filtering all 7,027,260 primes below 123,456,789 probably won't kill you, but there is\\nat least one significantly better and much faster way, needing a mere 511 odd/prime tests.\\n\\n\\n\\nSee also\\n OEIS:A052015 - Primes with distinct digits in ascending order\\n\\n\\nRelated\\n\\nPrimes with digits in nondecreasing order (infinite series allowing duplicate digits, whereas this isn't and doesn't)\\nPandigital prime (whereas this is the smallest, with gaps in the used digits being permitted)\\n\\n\",\n",
       " 'language_url': '#ALGOL_68',\n",
       " 'language_name': 'ALGOL 68',\n",
       " 'code': 'BEGIN # find all primes with strictly increasing digits                      #\\n    PR read \"primes.incl.a68\" PR                   # include prime utilities #\\n    PR read \"rows.incl.a68\"   PR                   # include array utilities #\\n    [ 1 : 512 ]INT primes;         # there will be at most 512 (2^9) primes  #\\n    INT p count := 0;                        # number of primes found so far #\\n    FOR d1 FROM 0 TO 1 DO\\n        INT n1 = d1;\\n        FOR d2 FROM 0 TO 1 DO\\n            INT n2 = IF d2 = 1 THEN ( n1 * 10 ) + 2 ELSE n1 FI;\\n            FOR d3 FROM 0 TO 1 DO\\n                INT n3 = IF d3 = 1 THEN ( n2 * 10 ) + 3 ELSE n2 FI;\\n                FOR d4 FROM 0 TO 1 DO\\n                    INT n4 = IF d4 = 1 THEN ( n3 * 10 ) + 4 ELSE n3 FI;\\n                    FOR d5 FROM 0 TO 1 DO\\n                        INT n5 = IF d5 = 1 THEN ( n4 * 10 ) + 5 ELSE n4 FI;\\n                        FOR d6 FROM 0 TO 1 DO\\n                            INT n6 = IF d6 = 1 THEN ( n5 * 10 ) + 6 ELSE n5 FI;\\n                            FOR d7 FROM 0 TO 1 DO\\n                                INT n7 = IF d7 = 1 THEN ( n6 * 10 ) + 7 ELSE n6 FI;\\n                                FOR d8 FROM 0 TO 1 DO\\n                                    INT n8 = IF d8 = 1 THEN ( n7 * 10 ) + 8 ELSE n7 FI;\\n                                    FOR d9 FROM 0 TO 1 DO\\n                                        INT n9 = IF d9 = 1 THEN ( n8 * 10 ) + 9 ELSE n8 FI;\\n                                        IF n9 > 0 THEN\\n                                            IF is probably prime( n9 ) THEN\\n                                                # have a prime with strictly ascending digits #\\n                                                primes[ p count +:= 1 ] := n9\\n                                            FI\\n                                        FI\\n                                    OD\\n                                OD\\n                            OD\\n                        OD\\n                    OD\\n                OD\\n            OD\\n        OD\\n    OD;\\n    QUICKSORT primes FROMELEMENT 1 TOELEMENT p count;     # sort the primes #\\n    FOR i TO p count DO                                # display the primes #\\n        print( ( \"  \", whole( primes[ i ], -8 ) ) );\\n        IF i MOD 10 = 0 THEN print( ( newline ) ) FI\\n    OD\\nEND'}"
      ]
     },
     "execution_count": 5,
     "metadata": {},
     "output_type": "execute_result"
    }
   ],
   "source": [
    "dataset[0]"
   ]
  },
  {
   "cell_type": "code",
   "execution_count": 6,
   "id": "c3811942-304d-4910-893f-70b62dd62b7c",
   "metadata": {},
   "outputs": [
    {
     "name": "stdout",
     "output_type": "stream",
     "text": [
      "Factor\n",
      "USING: grouping math math.combinatorics math.functions\n",
      "math.primes math.ranges prettyprint sequences sequences.extras ;\n",
      " \n",
      "9 [1,b] all-subsets [ reverse 0 [ 10^ * + ] reduce-index ]\n",
      "[ prime? ] map-filter 10 group simple-table.\n"
     ]
    }
   ],
   "source": [
    "print(dataset[4][\"language_name\"])\n",
    "print(dataset[4][\"code\"])"
   ]
  },
  {
   "cell_type": "code",
   "execution_count": 7,
   "id": "e168a538-23f6-4c0c-8ecf-16ac7f54705f",
   "metadata": {},
   "outputs": [],
   "source": [
    "from collections import defaultdict\n",
    "problems = defaultdict(list)\n",
    "\n",
    "for element in dataset:\n",
    "    problems[element[\"task_name\"] + \"\\n\" + element[\"task_description\"]].append(f'Language: {element[\"language_name\"]}\\n{element[\"code\"]}')"
   ]
  },
  {
   "cell_type": "code",
   "execution_count": 11,
   "id": "fe40eb00-3ed5-44bf-96d3-0046e09fd795",
   "metadata": {},
   "outputs": [],
   "source": [
    "contents = []\n",
    "\n",
    "for problem in problems:\n",
    "    contents.append({\"content\": problem + \"\\n\\n\" + \"\\n\\n\".join(problems[problem])})"
   ]
  },
  {
   "cell_type": "code",
   "execution_count": 13,
   "id": "387c2dbe-1bca-4b64-8189-a3d0fd4d25d5",
   "metadata": {},
   "outputs": [],
   "source": [
    "ds_rosetta = Dataset.from_list(contents)"
   ]
  },
  {
   "cell_type": "code",
   "execution_count": 14,
   "id": "a8934a84-6ba1-4240-9b55-35212aa64f70",
   "metadata": {},
   "outputs": [
    {
     "data": {
      "text/plain": [
       "Dataset({\n",
       "    features: ['content'],\n",
       "    num_rows: 1182\n",
       "})"
      ]
     },
     "execution_count": 14,
     "metadata": {},
     "output_type": "execute_result"
    }
   ],
   "source": [
    "ds_rosetta"
   ]
  },
  {
   "cell_type": "code",
   "execution_count": 15,
   "id": "a7a5331d-de60-477a-ba47-9d870ad23dd0",
   "metadata": {},
   "outputs": [
    {
     "data": {
      "application/vnd.jupyter.widget-view+json": {
       "model_id": "0354d516e88545db8a54938c0f33e57a",
       "version_major": 2,
       "version_minor": 0
      },
      "text/plain": [
       "Creating parquet from Arrow format:   0%|          | 0/2 [00:00<?, ?ba/s]"
      ]
     },
     "metadata": {},
     "output_type": "display_data"
    },
    {
     "data": {
      "application/vnd.jupyter.widget-view+json": {
       "model_id": "860c910e36c143dea5816f069da63ef8",
       "version_major": 2,
       "version_minor": 0
      },
      "text/plain": [
       "rosetta-code.parquet:   0%|          | 0.00/34.9M [00:00<?, ?B/s]"
      ]
     },
     "metadata": {},
     "output_type": "display_data"
    },
    {
     "data": {
      "text/plain": [
       "'https://huggingface.co/datasets/bigcode/starcoder2-special/blob/main/data/rosetta-code/00000-data.parquet'"
      ]
     },
     "execution_count": 15,
     "metadata": {},
     "output_type": "execute_result"
    }
   ],
   "source": [
    "ds_rosetta.to_parquet(\"./data/rosetta-code.parquet\")\n",
    "\n",
    "api.upload_file(\n",
    "    path_or_fileobj=\"./data/rosetta-code.parquet\",\n",
    "    path_in_repo=\"data/rosetta-code/00000-data.parquet\",\n",
    "    repo_id=\"bigcode/starcoder2-special\",\n",
    "    repo_type=\"dataset\",\n",
    "    commit_message=f\"Add Rosetta code train dataset\",\n",
    ")"
   ]
  },
  {
   "cell_type": "markdown",
   "id": "2d4ea7d8-04c7-4699-a2d7-eaefe9bf0b58",
   "metadata": {},
   "source": [
    "## MultiPL-T"
   ]
  },
  {
   "cell_type": "code",
   "execution_count": 3,
   "id": "8108235b-47f4-4ec9-8796-d92402465df7",
   "metadata": {},
   "outputs": [
    {
     "data": {
      "application/vnd.jupyter.widget-view+json": {
       "model_id": "7bf44387456646ad9a0b8020f116c38a",
       "version_major": 2,
       "version_minor": 0
      },
      "text/plain": [
       "Downloading readme:   0%|          | 0.00/747 [00:00<?, ?B/s]"
      ]
     },
     "metadata": {},
     "output_type": "display_data"
    },
    {
     "name": "stdout",
     "output_type": "stream",
     "text": [
      "Downloading and preparing dataset None/None to /Users/leandro/.cache/huggingface/datasets/nuprl___parquet/nuprl--MultiPL-T-29ccda1515a43057/0.0.0/14a00e99c0d15a23649d0db8944380ac81082d4b021f398733dd84f3a6c569a7...\n"
     ]
    },
    {
     "data": {
      "application/vnd.jupyter.widget-view+json": {
       "model_id": "856484a8688849b7affce707bdc05af6",
       "version_major": 2,
       "version_minor": 0
      },
      "text/plain": [
       "Downloading data files:   0%|          | 0/3 [00:00<?, ?it/s]"
      ]
     },
     "metadata": {},
     "output_type": "display_data"
    },
    {
     "data": {
      "application/vnd.jupyter.widget-view+json": {
       "model_id": "ca8722bd584c412fbcaf1f94cf994046",
       "version_major": 2,
       "version_minor": 0
      },
      "text/plain": [
       "Downloading data:   0%|          | 0.00/12.5M [00:00<?, ?B/s]"
      ]
     },
     "metadata": {},
     "output_type": "display_data"
    },
    {
     "data": {
      "application/vnd.jupyter.widget-view+json": {
       "model_id": "70491358e02e4f00abfa03bb67ddfe7b",
       "version_major": 2,
       "version_minor": 0
      },
      "text/plain": [
       "Downloading data:   0%|          | 0.00/9.21M [00:00<?, ?B/s]"
      ]
     },
     "metadata": {},
     "output_type": "display_data"
    },
    {
     "data": {
      "application/vnd.jupyter.widget-view+json": {
       "model_id": "7bf1e593c8d4456a88c93ac542d7dc4b",
       "version_major": 2,
       "version_minor": 0
      },
      "text/plain": [
       "Downloading data:   0%|          | 0.00/7.49M [00:00<?, ?B/s]"
      ]
     },
     "metadata": {},
     "output_type": "display_data"
    },
    {
     "data": {
      "application/vnd.jupyter.widget-view+json": {
       "model_id": "58c83953e618476cbf5888089285ae94",
       "version_major": 2,
       "version_minor": 0
      },
      "text/plain": [
       "Extracting data files:   0%|          | 0/3 [00:00<?, ?it/s]"
      ]
     },
     "metadata": {},
     "output_type": "display_data"
    },
    {
     "data": {
      "application/vnd.jupyter.widget-view+json": {
       "model_id": "",
       "version_major": 2,
       "version_minor": 0
      },
      "text/plain": [
       "Generating lua split:   0%|          | 0/48194 [00:00<?, ? examples/s]"
      ]
     },
     "metadata": {},
     "output_type": "display_data"
    },
    {
     "data": {
      "application/vnd.jupyter.widget-view+json": {
       "model_id": "",
       "version_major": 2,
       "version_minor": 0
      },
      "text/plain": [
       "Generating ocaml split:   0%|          | 0/43401 [00:00<?, ? examples/s]"
      ]
     },
     "metadata": {},
     "output_type": "display_data"
    },
    {
     "data": {
      "application/vnd.jupyter.widget-view+json": {
       "model_id": "",
       "version_major": 2,
       "version_minor": 0
      },
      "text/plain": [
       "Generating racket split:   0%|          | 0/40510 [00:00<?, ? examples/s]"
      ]
     },
     "metadata": {},
     "output_type": "display_data"
    },
    {
     "name": "stdout",
     "output_type": "stream",
     "text": [
      "Dataset parquet downloaded and prepared to /Users/leandro/.cache/huggingface/datasets/nuprl___parquet/nuprl--MultiPL-T-29ccda1515a43057/0.0.0/14a00e99c0d15a23649d0db8944380ac81082d4b021f398733dd84f3a6c569a7. Subsequent calls will reuse this data.\n"
     ]
    },
    {
     "data": {
      "application/vnd.jupyter.widget-view+json": {
       "model_id": "d0e24f246ac742d0b1a8fd87b11ca06d",
       "version_major": 2,
       "version_minor": 0
      },
      "text/plain": [
       "  0%|          | 0/3 [00:00<?, ?it/s]"
      ]
     },
     "metadata": {},
     "output_type": "display_data"
    }
   ],
   "source": [
    "ds = load_dataset(\"nuprl/MultiPL-T\")"
   ]
  },
  {
   "cell_type": "code",
   "execution_count": 4,
   "id": "2481331a-5dcd-44eb-8bdb-4238bab5a9bd",
   "metadata": {},
   "outputs": [
    {
     "data": {
      "text/plain": [
       "DatasetDict({\n",
       "    lua: Dataset({\n",
       "        features: ['content'],\n",
       "        num_rows: 48194\n",
       "    })\n",
       "    ocaml: Dataset({\n",
       "        features: ['content'],\n",
       "        num_rows: 43401\n",
       "    })\n",
       "    racket: Dataset({\n",
       "        features: ['content'],\n",
       "        num_rows: 40510\n",
       "    })\n",
       "})"
      ]
     },
     "execution_count": 4,
     "metadata": {},
     "output_type": "execute_result"
    }
   ],
   "source": [
    "ds"
   ]
  },
  {
   "cell_type": "code",
   "execution_count": 5,
   "id": "b7785293-4696-42e0-aff3-2fe398d1f690",
   "metadata": {},
   "outputs": [
    {
     "data": {
      "application/vnd.jupyter.widget-view+json": {
       "model_id": "a46410c83a664fd3a646f29ea71004d3",
       "version_major": 2,
       "version_minor": 0
      },
      "text/plain": [
       "Downloading readme:   0%|          | 0.00/561 [00:00<?, ?B/s]"
      ]
     },
     "metadata": {},
     "output_type": "display_data"
    },
    {
     "name": "stdout",
     "output_type": "stream",
     "text": [
      "Downloading and preparing dataset None/None to /Users/leandro/.cache/huggingface/datasets/nuprl___parquet/nuprl--stack_dedup_lua_codegen_full-6e8804842d127749/0.0.0/14a00e99c0d15a23649d0db8944380ac81082d4b021f398733dd84f3a6c569a7...\n"
     ]
    },
    {
     "data": {
      "application/vnd.jupyter.widget-view+json": {
       "model_id": "dabea10f96994d43848206841df33c87",
       "version_major": 2,
       "version_minor": 0
      },
      "text/plain": [
       "Downloading data files:   0%|          | 0/1 [00:00<?, ?it/s]"
      ]
     },
     "metadata": {},
     "output_type": "display_data"
    },
    {
     "data": {
      "application/vnd.jupyter.widget-view+json": {
       "model_id": "a1cc2c6644074b909b93e5472119523f",
       "version_major": 2,
       "version_minor": 0
      },
      "text/plain": [
       "Downloading data:   0%|          | 0.00/51.5M [00:00<?, ?B/s]"
      ]
     },
     "metadata": {},
     "output_type": "display_data"
    },
    {
     "data": {
      "application/vnd.jupyter.widget-view+json": {
       "model_id": "fc9b552b7cf5491fb4a2d327ba241bcd",
       "version_major": 2,
       "version_minor": 0
      },
      "text/plain": [
       "Extracting data files:   0%|          | 0/1 [00:00<?, ?it/s]"
      ]
     },
     "metadata": {},
     "output_type": "display_data"
    },
    {
     "data": {
      "application/vnd.jupyter.widget-view+json": {
       "model_id": "",
       "version_major": 2,
       "version_minor": 0
      },
      "text/plain": [
       "Generating train split:   0%|          | 0/117557 [00:00<?, ? examples/s]"
      ]
     },
     "metadata": {},
     "output_type": "display_data"
    },
    {
     "name": "stdout",
     "output_type": "stream",
     "text": [
      "Dataset parquet downloaded and prepared to /Users/leandro/.cache/huggingface/datasets/nuprl___parquet/nuprl--stack_dedup_lua_codegen_full-6e8804842d127749/0.0.0/14a00e99c0d15a23649d0db8944380ac81082d4b021f398733dd84f3a6c569a7. Subsequent calls will reuse this data.\n"
     ]
    },
    {
     "data": {
      "application/vnd.jupyter.widget-view+json": {
       "model_id": "ceb5c47e36d74da9b5d7f05b2aa34938",
       "version_major": 2,
       "version_minor": 0
      },
      "text/plain": [
       "  0%|          | 0/1 [00:00<?, ?it/s]"
      ]
     },
     "metadata": {},
     "output_type": "display_data"
    }
   ],
   "source": [
    "ds_lua = load_dataset(\"nuprl/stack_dedup_lua_codegen_full\")"
   ]
  },
  {
   "cell_type": "code",
   "execution_count": 6,
   "id": "664bc873-b68e-4245-b971-984d8e28d422",
   "metadata": {},
   "outputs": [
    {
     "data": {
      "text/plain": [
       "DatasetDict({\n",
       "    train: Dataset({\n",
       "        features: ['content', 'pass_rate', 'id', 'original_id', 'tests', 'edu_score'],\n",
       "        num_rows: 117557\n",
       "    })\n",
       "})"
      ]
     },
     "execution_count": 6,
     "metadata": {},
     "output_type": "execute_result"
    }
   ],
   "source": [
    "ds_lua"
   ]
  },
  {
   "cell_type": "code",
   "execution_count": 7,
   "id": "e72cbcef-1fff-4aa9-84f7-9667aa91b135",
   "metadata": {},
   "outputs": [],
   "source": [
    "ds_lua = ds_lua.remove_columns(['pass_rate', 'id', 'original_id', 'tests', 'edu_score'])"
   ]
  },
  {
   "cell_type": "code",
   "execution_count": 9,
   "id": "12c90e96-9a19-4d2d-8140-25bb898838cd",
   "metadata": {},
   "outputs": [],
   "source": [
    "ds_multiplt = concatenate_datasets([ds_lua[\"train\"], ds[\"racket\"], ds[\"ocaml\"]])"
   ]
  },
  {
   "cell_type": "code",
   "execution_count": 10,
   "id": "c1c68222-8026-4a22-bc53-8ab2dbf5514a",
   "metadata": {},
   "outputs": [
    {
     "data": {
      "text/plain": [
       "Dataset({\n",
       "    features: ['content'],\n",
       "    num_rows: 201468\n",
       "})"
      ]
     },
     "execution_count": 10,
     "metadata": {},
     "output_type": "execute_result"
    }
   ],
   "source": [
    "ds_multiplt"
   ]
  },
  {
   "cell_type": "code",
   "execution_count": 15,
   "id": "f82a4174-3028-4c21-bfad-01e54ac4e3a8",
   "metadata": {},
   "outputs": [
    {
     "data": {
      "application/vnd.jupyter.widget-view+json": {
       "model_id": "fa47673940f0425c904053c1806bde82",
       "version_major": 2,
       "version_minor": 0
      },
      "text/plain": [
       "Creating parquet from Arrow format:   0%|          | 0/202 [00:00<?, ?ba/s]"
      ]
     },
     "metadata": {},
     "output_type": "display_data"
    },
    {
     "data": {
      "text/plain": [
       "97045960"
      ]
     },
     "execution_count": 15,
     "metadata": {},
     "output_type": "execute_result"
    }
   ],
   "source": [
    "ds_multiplt.to_parquet(\"./data/multipl-t.parquet\")"
   ]
  },
  {
   "cell_type": "code",
   "execution_count": 11,
   "id": "40b49a5b-a506-496f-b1cc-1120d43cce57",
   "metadata": {},
   "outputs": [
    {
     "data": {
      "application/vnd.jupyter.widget-view+json": {
       "model_id": "4579a8ed5e3c448a838aa6f8446a225e",
       "version_major": 2,
       "version_minor": 0
      },
      "text/plain": [
       "Creating parquet from Arrow format:   0%|          | 0/202 [00:00<?, ?ba/s]"
      ]
     },
     "metadata": {},
     "output_type": "display_data"
    },
    {
     "data": {
      "application/vnd.jupyter.widget-view+json": {
       "model_id": "316d1e4728e04ff1857512307b21d786",
       "version_major": 2,
       "version_minor": 0
      },
      "text/plain": [
       "mutlipl-t.parquet:   0%|          | 0.00/47.1M [00:00<?, ?B/s]"
      ]
     },
     "metadata": {},
     "output_type": "display_data"
    },
    {
     "data": {
      "text/plain": [
       "'https://huggingface.co/datasets/bigcode/starcoder2-special/blob/main/data/multipl-t/00000-data.parquet'"
      ]
     },
     "execution_count": 11,
     "metadata": {},
     "output_type": "execute_result"
    }
   ],
   "source": [
    "api.upload_file(\n",
    "    path_or_fileobj=\"./data/multipl-t.parquet\",\n",
    "    path_in_repo=\"data/multipl-t/00000-data.parquet\",\n",
    "    repo_id=\"bigcode/starcoder2-special\",\n",
    "    repo_type=\"dataset\",\n",
    "    commit_message=f\"Add MultiPL-T code train dataset\",\n",
    ")"
   ]
  },
  {
   "cell_type": "markdown",
   "id": "5dec6d3b-a697-47f9-9540-466cbed705cf",
   "metadata": {},
   "source": [
    "## Open Web Math"
   ]
  },
  {
   "cell_type": "code",
   "execution_count": null,
   "id": "d977e03e-36d4-415f-834d-8a117ca25974",
   "metadata": {},
   "outputs": [],
   "source": [
    "dataset = load_dataset(\"open-web-math/open-web-math\")"
   ]
  },
  {
   "cell_type": "markdown",
   "id": "d8b7c2bc-f088-4ee7-927f-3cba2eab447d",
   "metadata": {},
   "source": [
    "## Proof Pile"
   ]
  },
  {
   "cell_type": "code",
   "execution_count": 22,
   "id": "f90ff0bd-4c87-49bf-af02-0f42d7439d75",
   "metadata": {},
   "outputs": [
    {
     "name": "stderr",
     "output_type": "stream",
     "text": [
      "Found cached dataset parquet (/Users/leandro/.cache/huggingface/datasets/xu3kev___parquet/xu3kev--proof-pile-2-proofsteps-931653b4c1f36c10/0.0.0/14a00e99c0d15a23649d0db8944380ac81082d4b021f398733dd84f3a6c569a7)\n",
      "Found cached dataset parquet (/Users/leandro/.cache/huggingface/datasets/xu3kev___parquet/xu3kev--proof-pile-2-proofsteps-bc4a881afa526220/0.0.0/14a00e99c0d15a23649d0db8944380ac81082d4b021f398733dd84f3a6c569a7)\n"
     ]
    }
   ],
   "source": [
    "ds_isa = load_dataset(\"xu3kev/proof-pile-2-proofsteps\", data_dir=\"isa_proofsteps\", split=\"train\")\n",
    "ds_lean = load_dataset(\"xu3kev/proof-pile-2-proofsteps\", data_dir=\"lean_proofsteps\", split=\"train\")"
   ]
  },
  {
   "cell_type": "code",
   "execution_count": 25,
   "id": "4f7f5aee-9fdf-4978-897f-eab186535f10",
   "metadata": {},
   "outputs": [],
   "source": [
    "ds_isa = ds_isa.rename_columns({\"text\": \"content\"})\n",
    "ds_lean = ds_lean.rename_columns({\"text\": \"content\"})"
   ]
  },
  {
   "cell_type": "code",
   "execution_count": 27,
   "id": "35b7027a-13cc-4b5a-91b1-e35990ece39f",
   "metadata": {},
   "outputs": [
    {
     "data": {
      "text/plain": [
       "Dataset({\n",
       "    features: ['content', 'meta'],\n",
       "    num_rows: 3396\n",
       "})"
      ]
     },
     "execution_count": 27,
     "metadata": {},
     "output_type": "execute_result"
    }
   ],
   "source": [
    "ds_lean"
   ]
  },
  {
   "cell_type": "code",
   "execution_count": 28,
   "id": "3a6a790a-eeb8-4d5a-8485-976cef9dc755",
   "metadata": {},
   "outputs": [
    {
     "data": {
      "application/vnd.jupyter.widget-view+json": {
       "model_id": "ecdc644527664e54817b65d460643cf4",
       "version_major": 2,
       "version_minor": 0
      },
      "text/plain": [
       "Creating parquet from Arrow format:   0%|          | 0/259 [00:00<?, ?ba/s]"
      ]
     },
     "metadata": {},
     "output_type": "display_data"
    },
    {
     "data": {
      "application/vnd.jupyter.widget-view+json": {
       "model_id": "3ccdeb6cabdb4d55b08af5dd8e8808b6",
       "version_major": 2,
       "version_minor": 0
      },
      "text/plain": [
       "Creating parquet from Arrow format:   0%|          | 0/4 [00:00<?, ?ba/s]"
      ]
     },
     "metadata": {},
     "output_type": "display_data"
    },
    {
     "data": {
      "text/plain": [
       "162783824"
      ]
     },
     "execution_count": 28,
     "metadata": {},
     "output_type": "execute_result"
    }
   ],
   "source": [
    "ds_isa.to_parquet(\"./data/proofsteps-isa.parquet\")\n",
    "ds_lean.to_parquet(\"./data/proofsteps-lean.parquet\")"
   ]
  },
  {
   "cell_type": "code",
   "execution_count": 29,
   "id": "13ef24ab-5ac4-4272-b080-d3055d124f18",
   "metadata": {},
   "outputs": [
    {
     "data": {
      "application/vnd.jupyter.widget-view+json": {
       "model_id": "e45dbda9dd0e46918780c0bfd71e7bc8",
       "version_major": 2,
       "version_minor": 0
      },
      "text/plain": [
       "proofsteps-isa.parquet:   0%|          | 0.00/208M [00:00<?, ?B/s]"
      ]
     },
     "metadata": {},
     "output_type": "display_data"
    },
    {
     "data": {
      "text/plain": [
       "'https://huggingface.co/datasets/bigcode/starcoder2-special/blob/main/data/proofsteps-isa/00000-data.parquet'"
      ]
     },
     "execution_count": 29,
     "metadata": {},
     "output_type": "execute_result"
    }
   ],
   "source": [
    "api.upload_file(\n",
    "    path_or_fileobj=\"./data/proofsteps-isa.parquet\",\n",
    "    path_in_repo=\"data/proofsteps-isa/00000-data.parquet\",\n",
    "    repo_id=\"bigcode/starcoder2-special\",\n",
    "    repo_type=\"dataset\",\n",
    "    commit_message=f\"Add proofsteps-isa train dataset\",\n",
    ")"
   ]
  },
  {
   "cell_type": "code",
   "execution_count": 30,
   "id": "80c701c5-f04e-45c2-b969-83ed337c78d8",
   "metadata": {},
   "outputs": [
    {
     "data": {
      "application/vnd.jupyter.widget-view+json": {
       "model_id": "3ac23ac24163449a8189915f11074f54",
       "version_major": 2,
       "version_minor": 0
      },
      "text/plain": [
       "proofsteps-lean.parquet:   0%|          | 0.00/23.0M [00:00<?, ?B/s]"
      ]
     },
     "metadata": {},
     "output_type": "display_data"
    },
    {
     "data": {
      "text/plain": [
       "'https://huggingface.co/datasets/bigcode/starcoder2-special/blob/main/data/proofsteps-lean/00000-data.parquet'"
      ]
     },
     "execution_count": 30,
     "metadata": {},
     "output_type": "execute_result"
    }
   ],
   "source": [
    "api.upload_file(\n",
    "    path_or_fileobj=\"./data/proofsteps-lean.parquet\",\n",
    "    path_in_repo=\"data/proofsteps-lean/00000-data.parquet\",\n",
    "    repo_id=\"bigcode/starcoder2-special\",\n",
    "    repo_type=\"dataset\",\n",
    "    commit_message=f\"Add proofsteps-lean train dataset\",\n",
    ")"
   ]
  },
  {
   "cell_type": "markdown",
   "id": "7cd9ea2c-98f6-44c8-be74-8e89e2a0ed9f",
   "metadata": {
    "tags": []
   },
   "source": [
    "## Statistics"
   ]
  },
  {
   "cell_type": "code",
   "execution_count": 34,
   "id": "807098c2-b942-4c1d-a98a-de1d0b9f77f6",
   "metadata": {},
   "outputs": [],
   "source": [
    "from transformers import AutoTokenizer\n",
    "\n",
    "tokenizer = AutoTokenizer.from_pretrained(\"bigcode/starcoder\")\n",
    "\n",
    "data_sources = [\n",
    "    \"apps-train\",\n",
    "    \"code-contest\",\n",
    "    #\"deepmind_mathematics_dataset\",\n",
    "    \"gsm8k-scirel-u33\",\n",
    "    \"gsm8k-train\",\n",
    "    \"rosetta-code\",\n",
    "    \"multipl-t\",\n",
    "    \"proofsteps-lean\",\n",
    "    \"proofsteps-isa\",\n",
    "]\n"
   ]
  },
  {
   "cell_type": "code",
   "execution_count": 35,
   "id": "69bd7aac-a528-49b8-b1f0-d4cf435a903d",
   "metadata": {},
   "outputs": [],
   "source": [
    "def tokenize(examples):\n",
    "    return {\"len\": [len(x) for x in tokenizer(examples[\"content\"]).input_ids]}"
   ]
  },
  {
   "cell_type": "code",
   "execution_count": 36,
   "id": "883e69a2-6421-41f4-b103-f5fac43b702f",
   "metadata": {},
   "outputs": [
    {
     "name": "stderr",
     "output_type": "stream",
     "text": [
      "Found cached dataset parquet (/Users/leandro/.cache/huggingface/datasets/parquet/.-a3a218561bd6db17/0.0.0/14a00e99c0d15a23649d0db8944380ac81082d4b021f398733dd84f3a6c569a7)\n",
      "Loading cached processed dataset at /Users/leandro/.cache/huggingface/datasets/parquet/.-a3a218561bd6db17/0.0.0/14a00e99c0d15a23649d0db8944380ac81082d4b021f398733dd84f3a6c569a7/cache-0a43a555fb253351.arrow\n",
      "Found cached dataset parquet (/Users/leandro/.cache/huggingface/datasets/parquet/.-fc5799d4c439dedd/0.0.0/14a00e99c0d15a23649d0db8944380ac81082d4b021f398733dd84f3a6c569a7)\n",
      "Loading cached processed dataset at /Users/leandro/.cache/huggingface/datasets/parquet/.-fc5799d4c439dedd/0.0.0/14a00e99c0d15a23649d0db8944380ac81082d4b021f398733dd84f3a6c569a7/cache-9e5263fbdb5e0cc8.arrow\n",
      "Found cached dataset parquet (/Users/leandro/.cache/huggingface/datasets/parquet/.-0ad34cca5b199149/0.0.0/14a00e99c0d15a23649d0db8944380ac81082d4b021f398733dd84f3a6c569a7)\n"
     ]
    },
    {
     "data": {
      "application/vnd.jupyter.widget-view+json": {
       "model_id": "",
       "version_major": 2,
       "version_minor": 0
      },
      "text/plain": [
       "Map:   0%|          | 0/110142 [00:00<?, ? examples/s]"
      ]
     },
     "metadata": {},
     "output_type": "display_data"
    },
    {
     "name": "stderr",
     "output_type": "stream",
     "text": [
      "Found cached dataset parquet (/Users/leandro/.cache/huggingface/datasets/parquet/.-5bd63274b07c27cc/0.0.0/14a00e99c0d15a23649d0db8944380ac81082d4b021f398733dd84f3a6c569a7)\n"
     ]
    },
    {
     "data": {
      "application/vnd.jupyter.widget-view+json": {
       "model_id": "",
       "version_major": 2,
       "version_minor": 0
      },
      "text/plain": [
       "Map:   0%|          | 0/7473 [00:00<?, ? examples/s]"
      ]
     },
     "metadata": {},
     "output_type": "display_data"
    },
    {
     "name": "stderr",
     "output_type": "stream",
     "text": [
      "Found cached dataset parquet (/Users/leandro/.cache/huggingface/datasets/parquet/.-f27b28f5b5640030/0.0.0/14a00e99c0d15a23649d0db8944380ac81082d4b021f398733dd84f3a6c569a7)\n"
     ]
    },
    {
     "data": {
      "application/vnd.jupyter.widget-view+json": {
       "model_id": "",
       "version_major": 2,
       "version_minor": 0
      },
      "text/plain": [
       "Map:   0%|          | 0/1182 [00:00<?, ? examples/s]"
      ]
     },
     "metadata": {},
     "output_type": "display_data"
    },
    {
     "name": "stderr",
     "output_type": "stream",
     "text": [
      "Found cached dataset parquet (/Users/leandro/.cache/huggingface/datasets/parquet/.-11e1f8855fbd38e8/0.0.0/14a00e99c0d15a23649d0db8944380ac81082d4b021f398733dd84f3a6c569a7)\n"
     ]
    },
    {
     "data": {
      "application/vnd.jupyter.widget-view+json": {
       "model_id": "",
       "version_major": 2,
       "version_minor": 0
      },
      "text/plain": [
       "Map:   0%|          | 0/201468 [00:00<?, ? examples/s]"
      ]
     },
     "metadata": {},
     "output_type": "display_data"
    },
    {
     "name": "stdout",
     "output_type": "stream",
     "text": [
      "Downloading and preparing dataset parquet/. to /Users/leandro/.cache/huggingface/datasets/parquet/.-d4c782cd56180c25/0.0.0/14a00e99c0d15a23649d0db8944380ac81082d4b021f398733dd84f3a6c569a7...\n"
     ]
    },
    {
     "data": {
      "application/vnd.jupyter.widget-view+json": {
       "model_id": "16c7f5becd934dc9a0798ca53878456e",
       "version_major": 2,
       "version_minor": 0
      },
      "text/plain": [
       "Downloading data files:   0%|          | 0/1 [00:00<?, ?it/s]"
      ]
     },
     "metadata": {},
     "output_type": "display_data"
    },
    {
     "data": {
      "application/vnd.jupyter.widget-view+json": {
       "model_id": "4f3a146827b44d0f9d1da1c11890e765",
       "version_major": 2,
       "version_minor": 0
      },
      "text/plain": [
       "Extracting data files:   0%|          | 0/1 [00:00<?, ?it/s]"
      ]
     },
     "metadata": {},
     "output_type": "display_data"
    },
    {
     "data": {
      "application/vnd.jupyter.widget-view+json": {
       "model_id": "",
       "version_major": 2,
       "version_minor": 0
      },
      "text/plain": [
       "Generating train split: 0 examples [00:00, ? examples/s]"
      ]
     },
     "metadata": {},
     "output_type": "display_data"
    },
    {
     "name": "stdout",
     "output_type": "stream",
     "text": [
      "Dataset parquet downloaded and prepared to /Users/leandro/.cache/huggingface/datasets/parquet/.-d4c782cd56180c25/0.0.0/14a00e99c0d15a23649d0db8944380ac81082d4b021f398733dd84f3a6c569a7. Subsequent calls will reuse this data.\n"
     ]
    },
    {
     "data": {
      "application/vnd.jupyter.widget-view+json": {
       "model_id": "",
       "version_major": 2,
       "version_minor": 0
      },
      "text/plain": [
       "Map:   0%|          | 0/3396 [00:00<?, ? examples/s]"
      ]
     },
     "metadata": {},
     "output_type": "display_data"
    },
    {
     "name": "stdout",
     "output_type": "stream",
     "text": [
      "Downloading and preparing dataset parquet/. to /Users/leandro/.cache/huggingface/datasets/parquet/.-e8cea112def26ef0/0.0.0/14a00e99c0d15a23649d0db8944380ac81082d4b021f398733dd84f3a6c569a7...\n"
     ]
    },
    {
     "data": {
      "application/vnd.jupyter.widget-view+json": {
       "model_id": "a9b39b60c7444b1e83588ecc3b1e3c3e",
       "version_major": 2,
       "version_minor": 0
      },
      "text/plain": [
       "Downloading data files:   0%|          | 0/1 [00:00<?, ?it/s]"
      ]
     },
     "metadata": {},
     "output_type": "display_data"
    },
    {
     "data": {
      "application/vnd.jupyter.widget-view+json": {
       "model_id": "7161f2cd395e491dad92cf7c70fc409f",
       "version_major": 2,
       "version_minor": 0
      },
      "text/plain": [
       "Extracting data files:   0%|          | 0/1 [00:00<?, ?it/s]"
      ]
     },
     "metadata": {},
     "output_type": "display_data"
    },
    {
     "data": {
      "application/vnd.jupyter.widget-view+json": {
       "model_id": "",
       "version_major": 2,
       "version_minor": 0
      },
      "text/plain": [
       "Generating train split: 0 examples [00:00, ? examples/s]"
      ]
     },
     "metadata": {},
     "output_type": "display_data"
    },
    {
     "name": "stdout",
     "output_type": "stream",
     "text": [
      "Dataset parquet downloaded and prepared to /Users/leandro/.cache/huggingface/datasets/parquet/.-e8cea112def26ef0/0.0.0/14a00e99c0d15a23649d0db8944380ac81082d4b021f398733dd84f3a6c569a7. Subsequent calls will reuse this data.\n"
     ]
    },
    {
     "data": {
      "application/vnd.jupyter.widget-view+json": {
       "model_id": "",
       "version_major": 2,
       "version_minor": 0
      },
      "text/plain": [
       "Map:   0%|          | 0/258108 [00:00<?, ? examples/s]"
      ]
     },
     "metadata": {},
     "output_type": "display_data"
    }
   ],
   "source": [
    "len_dist = {}\n",
    "for data_source in data_sources:\n",
    "    ds = load_dataset(\"./\", data_files=[f\"data/{data_source}.parquet\"], split=\"train\")\n",
    "    ds = ds.map(tokenize, batched=True, batch_size=1000)\n",
    "    len_dist[data_source] = ds[\"len\"]"
   ]
  },
  {
   "cell_type": "code",
   "execution_count": 37,
   "id": "7ca3be68-629d-436d-b91b-95c7c12c5c1c",
   "metadata": {},
   "outputs": [],
   "source": [
    "import matplotlib.pyplot as plt\n",
    "import numpy as np"
   ]
  },
  {
   "cell_type": "code",
   "execution_count": 46,
   "id": "f6be1a09-21af-4f30-91c4-61b7b6280c23",
   "metadata": {},
   "outputs": [
    {
     "data": {
      "image/png": "[encoded data removed]",
      "text/plain": [
       "<Figure size 1800x1200 with 1 Axes>"
      ]
     },
     "metadata": {
      "needs_background": "light"
     },
     "output_type": "display_data"
    }
   ],
   "source": [
    "plt.subplots(dpi=300)\n",
    "bins = np.linspace(0, 8000, 100)\n",
    "for key in len_dist:\n",
    "    #if \"lean\" in key:\n",
    "    plt.hist(len_dist[key], bins=bins, label=key, alpha=0.3, density=True)\n",
    "plt.legend(loc=\"best\")\n",
    "plt.show()"
   ]
  },
  {
   "cell_type": "code",
   "execution_count": 40,
   "id": "43983f51-4b9d-4a77-b781-93f660cb8d9e",
   "metadata": {},
   "outputs": [
    {
     "name": "stdout",
     "output_type": "stream",
     "text": [
      "apps-train\n",
      "Number of samples:  5000\n",
      "Total tokens (M):   3.458146\n",
      "Average tokens:     691.6292\n",
      "========================================\n",
      "code-contest\n",
      "Number of samples:  13328\n",
      "Total tokens (M):   33.777744\n",
      "Average tokens:     2534.344537815126\n",
      "========================================\n",
      "gsm8k-scirel-u33\n",
      "Number of samples:  110142\n",
      "Total tokens (M):   24.497842\n",
      "Average tokens:     222.42052986145157\n",
      "========================================\n",
      "gsm8k-train\n",
      "Number of samples:  7473\n",
      "Total tokens (M):   1.493086\n",
      "Average tokens:     199.79740398768902\n",
      "========================================\n",
      "rosetta-code\n",
      "Number of samples:  1182\n",
      "Total tokens (M):   26.707557\n",
      "Average tokens:     22595.225888324872\n",
      "========================================\n",
      "multipl-t\n",
      "Number of samples:  201468\n",
      "Total tokens (M):   29.583764\n",
      "Average tokens:     146.8410070085572\n",
      "========================================\n",
      "proofsteps-lean\n",
      "Number of samples:  3396\n",
      "Total tokens (M):   72.191515\n",
      "Average tokens:     21257.807714958773\n",
      "========================================\n",
      "proofsteps-isa\n",
      "Number of samples:  258108\n",
      "Total tokens (M):   765.004617\n",
      "Average tokens:     2963.893474824492\n",
      "========================================\n"
     ]
    }
   ],
   "source": [
    "for key in len_dist:\n",
    "    print(key)\n",
    "    print(\"Number of samples: \", len(len_dist[key]))\n",
    "    print(\"Total tokens (M):  \", sum(len_dist[key])/1_000_000)\n",
    "    print(\"Average tokens:    \", np.mean(len_dist[key]))\n",
    "    print(\"=\"*40)"
   ]
  },
  {
   "cell_type": "code",
   "execution_count": 41,
   "id": "cfa8bca0-cb4d-4b55-9704-44a326dac57b",
   "metadata": {},
   "outputs": [
    {
     "name": "stdout",
     "output_type": "stream",
     "text": [
      "apps-train & 5000.0 & 3.5 & 691.6 \\\\\n",
      "code-contest & 13328.0 & 33.8 & 2534.3 \\\\\n",
      "gsm8k-scirel-u33 & 110142.0 & 24.5 & 222.4 \\\\\n",
      "gsm8k-train & 7473.0 & 1.5 & 199.8 \\\\\n",
      "rosetta-code & 1182.0 & 26.7 & 22595.2 \\\\\n",
      "multipl-t & 201468.0 & 29.6 & 146.8 \\\\\n",
      "proofsteps-lean & 3396.0 & 72.2 & 21257.8 \\\\\n",
      "proofsteps-isa & 258108.0 & 765.0 & 2963.9 \\\\\n"
     ]
    }
   ],
   "source": [
    "for key in len_dist:\n",
    "    print(\" & \".join([f\"{i:.1f}\" if not isinstance(i, str) else i for i in [key, len(len_dist[key]), sum(len_dist[key])/1_000_000, np.mean(len_dist[key])]]), \"\\\\\\\\\")"
   ]
  },
  {
   "cell_type": "markdown",
   "id": "db09af87-9e6c-44b4-b7c8-ecaf419b4420",
   "metadata": {
    "tags": []
   },
   "source": []
  }
 ],
 "metadata": {
  "kernelspec": {
   "display_name": "Python 3 (ipykernel)",
   "language": "python",
   "name": "python3"
  },
  "language_info": {
   "codemirror_mode": {
    "name": "ipython",
    "version": 3
   },
   "file_extension": ".py",
   "mimetype": "text/x-python",
   "name": "python",
   "nbconvert_exporter": "python",
   "pygments_lexer": "ipython3",
   "version": "3.9.12"
  }
 },
 "nbformat": 4,
 "nbformat_minor": 5
}
