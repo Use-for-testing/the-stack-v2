{
 "cells": [
  {
   "cell_type": "code",
   "execution_count": null,
   "id": "bf2bbe03-230c-4744-8be3-1f66d9dc40d7",
   "metadata": {},
   "outputs": [],
   "source": [
    "%load_ext autoreload\n",
    "%autoreload 2"
   ]
  },
  {
   "cell_type": "code",
   "execution_count": null,
   "id": "825cc2d8-bb16-4439-9e2c-f6c74081f6b8",
   "metadata": {},
   "outputs": [],
   "source": [
    "import yaml\n",
    "import numpy as np\n",
    "import pandas as pd\n",
    "\n",
    "from render import RenderParams, get_line_diff_range\n",
    "import ray_util\n",
    "import util\n",
    "import render\n",
    "import process_pr_events\n",
    "import cfg"
   ]
  },
  {
   "cell_type": "markdown",
   "id": "60155cc6-7b73-4df3-ad91-4c6a7995a85e",
   "metadata": {},
   "source": [
    "## Ray cluster management "
   ]
  },
  {
   "cell_type": "code",
   "execution_count": null,
   "id": "9881b1ff-26dd-4504-8a8c-371569b9409b",
   "metadata": {},
   "outputs": [],
   "source": [
    "import ray_server\n",
    "server = ray_server.get_ray_server()"
   ]
  },
  {
   "cell_type": "code",
   "execution_count": null,
   "id": "5120c87b-dd2a-4a92-bf87-c5ab92aa0083",
   "metadata": {},
   "outputs": [],
   "source": [
    "server.scale_cluster(60)"
   ]
  },
  {
   "cell_type": "markdown",
   "id": "3d3d86a1-a6fb-4a58-84cb-f8fdc3db8a7e",
   "metadata": {},
   "source": [
    "## Load secrets"
   ]
  },
  {
   "cell_type": "code",
   "execution_count": null,
   "id": "8cdbc031-6fc3-4b71-bd35-d9a9be00a0f6",
   "metadata": {},
   "outputs": [],
   "source": [
    "with open('secrets.yaml') as f:\n",
    "    secrets = yaml.safe_load(f)"
   ]
  },
  {
   "cell_type": "markdown",
   "id": "60c757da-a0db-49ef-8a71-6521a0cd9043",
   "metadata": {},
   "source": [
    "## Get opt outs"
   ]
  },
  {
   "cell_type": "code",
   "execution_count": null,
   "id": "8d0709d8-6e49-4dd9-a787-d2f97017897c",
   "metadata": {},
   "outputs": [],
   "source": [
    "repos_opt_out, users_for_repo_opt_out, users_for_commits_opt_out, users_for_issues_opt_out = util.get_opt_outs(\n",
    "    src=cfg.opt_outs_dataset_name,\n",
    "    token=secrets['hf_api_key']\n",
    ")"
   ]
  },
  {
   "cell_type": "markdown",
   "id": "7e7677e3-96e8-4ab2-9464-7dc5138dc293",
   "metadata": {},
   "source": [
    "## Filter opt outs non permissive licenses and add stats"
   ]
  },
  {
   "cell_type": "code",
   "execution_count": null,
   "id": "896eb016-6d08-4596-820c-04d580bd0d4e",
   "metadata": {},
   "outputs": [],
   "source": [
    "files = list(cfg.prs_grouped_path.glob('*.parquet'))\n",
    "dst = cfg.prs_grouped_filtered_path\n",
    "dst.mkdir(parents=True, exist_ok=True)"
   ]
  },
  {
   "cell_type": "code",
   "execution_count": null,
   "id": "80cd0887-32cd-4970-971d-483b18e902ab",
   "metadata": {},
   "outputs": [],
   "source": [
    "rp = RenderParams()\n",
    "res = util.ray_map(\n",
    "    process_pr_events.process_pr_bucket,\n",
    "    files,\n",
    "    dst=dst,\n",
    "    repos_opt_out=repos_opt_out,\n",
    "    users_for_repo_opt_out=users_for_repo_opt_out,\n",
    "    users_for_issues_opt_out=users_for_issues_opt_out,\n",
    "    min_desc_length=rp.min_text_size,\n",
    "    min_title_length=rp.min_title_size\n",
    ")"
   ]
  },
  {
   "cell_type": "code",
   "execution_count": null,
   "id": "205af518-c567-46fe-a125-d89f17b6d503",
   "metadata": {},
   "outputs": [],
   "source": [
    "ray_util.ray_tasks_progress(res)\n",
    "res = ray.get(res)"
   ]
  },
  {
   "cell_type": "markdown",
   "id": "38ba207a-aba4-4412-96df-45fe2b8f2cc5",
   "metadata": {},
   "source": [
    "## Add pr count per repo"
   ]
  },
  {
   "cell_type": "code",
   "execution_count": null,
   "id": "c7eeafd3-a93e-4de5-a335-76fb1c0785b2",
   "metadata": {},
   "outputs": [],
   "source": [
    "@ray.remote\n",
    "def get_df_repo_pr_bucket(file):\n",
    "    df =  pd.read_parquet(file, columns=['repo_name', 'pull_request.guid'])\n",
    "    df['bucket'] = file.stem\n",
    "    return df\n",
    "\n",
    "@ray.remote\n",
    "def merge_pr_count_per_repo(data):\n",
    "    file = data[0]\n",
    "    df_pr_per_repo = data[1][['pull_request.guid', 'pr_count_per_repo']]\n",
    "    df = pd.read_parquet(file)\n",
    "    if 'pr_count_per_repo' in df.columns:\n",
    "        return 1\n",
    "    df = df.merge(df_pr_per_repo, on = 'pull_request.guid', how='left')\n",
    "    util.df_to_parquet_safe(df, file)\n",
    "    return 0"
   ]
  },
  {
   "cell_type": "code",
   "execution_count": null,
   "id": "e8f5ca1c-ab44-4322-a188-c0e4a098ceb7",
   "metadata": {},
   "outputs": [],
   "source": [
    "files = list(cfg.prs_grouped_filtered_path.glob('*.parquet'))\n",
    "res = util.ray_map(\n",
    "    get_df_repo_pr_bucket,\n",
    "    files\n",
    ")\n",
    "res = ray.get(res)"
   ]
  },
  {
   "cell_type": "code",
   "execution_count": null,
   "id": "34b21ed7-65ad-4395-b1bf-d453f475325b",
   "metadata": {},
   "outputs": [],
   "source": [
    "res = pd.concat(res)\n",
    "res['pr_count_per_repo'] = res.groupby('repo_name')['pull_request.guid'].transform('count')\n",
    "path = cfg.prs_grouped_filtered_path\n",
    "src = [(path / f'{key}.parquet', group) for key, group in res.groupby('bucket')]"
   ]
  },
  {
   "cell_type": "code",
   "execution_count": null,
   "id": "34281050-122a-4484-9c7b-d3f7621e21a5",
   "metadata": {},
   "outputs": [],
   "source": [
    "res = util.ray_map(\n",
    "    merge_pr_count_per_repo,\n",
    "    src\n",
    ")\n",
    "res = ray.get(res)"
   ]
  },
  {
   "cell_type": "markdown",
   "id": "00b94bc5-92f8-4984-be34-68de63796920",
   "metadata": {},
   "source": [
    "## Render"
   ]
  },
  {
   "cell_type": "code",
   "execution_count": null,
   "id": "0799a7fd-c6c1-4bb7-bb2f-7919f988d8a0",
   "metadata": {},
   "outputs": [],
   "source": [
    "pr_files = list(cfg.prs_grouped_filtered_path.glob('*.parquet'))\n",
    "commits_path  = cfg.pr_commid_pairs_files_filtered_cleaned_grouped_path\n",
    "dst = cfg.prs_renders_path\n",
    "dst.mkdir(parents=True, exist_ok=True)\n",
    "\n",
    "df_bw_lang_list = pd.read_csv('language_labels.csv')\n",
    "blacklisted_languaged = df_bw_lang_list[df_bw_lang_list['include_final'] == False]\n",
    "\n",
    "render_params = render.RenderParams()\n",
    "render_params.subsample_pr_per_repo = True"
   ]
  },
  {
   "cell_type": "code",
   "execution_count": null,
   "id": "fd7a3952-a3a5-470e-a67c-36f7da935700",
   "metadata": {},
   "outputs": [],
   "source": [
    "res = []\n",
    "for f in rest_files:\n",
    "    res.append(render.get_renders_for_bucket.remote(\n",
    "        f, commits_path,\n",
    "        render_params,\n",
    "        return_render=False,\n",
    "        return_lang_distr=False,\n",
    "        return_data=False,\n",
    "        base_seed=42,\n",
    "        seed=int(f.stem, 16),\n",
    "        dst_file_name=dst/f.name,\n",
    "        language_blacklist=blacklisted_languaged,\n",
    "    ))"
   ]
  },
  {
   "cell_type": "code",
   "execution_count": null,
   "id": "45298b91-ecc1-4f41-9e53-42a286c571d1",
   "metadata": {},
   "outputs": [],
   "source": [
    "ray_util.ray_tasks_progress(res)\n",
    "res = ray.get(res)"
   ]
  },
  {
   "cell_type": "markdown",
   "id": "8ebfd5f6-0519-4436-89bb-5761d2f8362c",
   "metadata": {},
   "source": [
    "## Ray cluster management "
   ]
  },
  {
   "cell_type": "code",
   "execution_count": null,
   "id": "4bba31ba-0504-496f-8f67-496e83ea8c25",
   "metadata": {},
   "outputs": [],
   "source": [
    "ray.shutdown()\n",
    "server.scale_cluster(0)"
   ]
  }
 ],
 "metadata": {
  "kernelspec": {
   "display_name": "Python 3 (ipykernel)",
   "language": "python",
   "name": "python3"
  },
  "language_info": {
   "codemirror_mode": {
    "name": "ipython",
    "version": 3
   },
   "file_extension": ".py",
   "mimetype": "text/x-python",
   "name": "python",
   "nbconvert_exporter": "python",
   "pygments_lexer": "ipython3",
   "version": "3.11.6"
  }
 },
 "nbformat": 4,
 "nbformat_minor": 5
}
