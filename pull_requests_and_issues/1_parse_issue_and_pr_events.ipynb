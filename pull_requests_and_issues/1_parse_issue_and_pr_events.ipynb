{
 "cells": [
  {
   "cell_type": "code",
   "execution_count": null,
   "id": "562a9756-a22e-4de2-8d30-af2ab09fbea3",
   "metadata": {},
   "outputs": [],
   "source": [
    "%load_ext autoreload\n",
    "%autoreload 2"
   ]
  },
  {
   "cell_type": "code",
   "execution_count": 1,
   "id": "3a361285-4384-45a3-9fec-7d3ac2e82118",
   "metadata": {},
   "outputs": [],
   "source": [
    "import shutil\n",
    "import json\n",
    "from tqdm.auto import tqdm\n",
    "from pathlib import Path\n",
    "\n",
    "import util\n",
    "import ray_util\n",
    "import cfg\n",
    "import regroup\n",
    "import pr_issue_parser"
   ]
  },
  {
   "cell_type": "markdown",
   "id": "6e9774fe-e292-4140-a586-527b456cdd43",
   "metadata": {},
   "source": [
    "## Ray cluster management"
   ]
  },
  {
   "cell_type": "code",
   "execution_count": null,
   "id": "76c6ea8a-365c-45d6-9db2-38d64efb65a3",
   "metadata": {},
   "outputs": [],
   "source": [
    "import ray_server\n",
    "server = ray_server.get_ray_server()"
   ]
  },
  {
   "cell_type": "code",
   "execution_count": null,
   "id": "bfb9685e-9f83-4c1e-8dc9-2d8e9f5f21c3",
   "metadata": {},
   "outputs": [],
   "source": [
    "server.scale_cluster(60)"
   ]
  },
  {
   "cell_type": "markdown",
   "id": "10fa7369-995e-4bda-b927-f5354c1c0d3f",
   "metadata": {},
   "source": [
    "## Extract pr and issue events information"
   ]
  },
  {
   "cell_type": "code",
   "execution_count": null,
   "id": "afab6f21-a43e-455e-a3cc-4262ea4ed91c",
   "metadata": {},
   "outputs": [],
   "source": [
    "files = util.glob_sorted(cfg.gharchives_path, '*.json.gz')\n",
    "files = regroup.split_items(files, 10, True)\n",
    "dst = cfg.parsed_issues_prs_path\n",
    "dst.mkdir(parents=True, exist_ok=True)\n",
    "\n",
    "parse_files = ray.remote(pr_issue_parser.parse_files)"
   ]
  },
  {
   "cell_type": "code",
   "execution_count": null,
   "id": "e99b67ad-7f66-46ed-b675-6f1c81330b34",
   "metadata": {},
   "outputs": [],
   "source": [
    "parse_files._function(files[0], 0, dst)"
   ]
  },
  {
   "cell_type": "code",
   "execution_count": null,
   "id": "354934d9-946f-4d32-aa6d-9a5b9d6ddcac",
   "metadata": {},
   "outputs": [],
   "source": [
    "res = []\n",
    "for i, gr, in enumerate(files):\n",
    "    res.append(parse_files.remote(gr, i, dst))\n",
    "res = ray.get(res)"
   ]
  },
  {
   "cell_type": "markdown",
   "id": "5cabd3f9-4bb0-438d-ada2-76c165299291",
   "metadata": {},
   "source": [
    "## Group events by issue or pr id"
   ]
  },
  {
   "cell_type": "code",
   "execution_count": null,
   "id": "f97a5e7e-ea23-48c0-8c0d-8aa5750f63ef",
   "metadata": {},
   "outputs": [],
   "source": [
    "res = regroup.ray_shuffle.remote(\n",
    "    cfg.parsed_issues_prs_path, cfg.issues_prs_grouped_path,\n",
    "    'group_id', 3\n",
    ")\n",
    "res = ray.get(res)"
   ]
  },
  {
   "cell_type": "code",
   "execution_count": null,
   "id": "8e30a84f-88a9-48ec-94b7-8ae79db84519",
   "metadata": {},
   "outputs": [],
   "source": [
    "## Exract information for Issues and PRs from goruped events"
   ]
  },
  {
   "cell_type": "code",
   "execution_count": null,
   "id": "5e13eaec-69ca-4f8e-862f-bebbe279ed47",
   "metadata": {},
   "outputs": [],
   "source": [
    "files = util.glob_sorted(cfg.issues_prs_grouped_path, '*.parquet')\n",
    "dst_prs_grouped = cfg.prs_grouped_path\n",
    "dst_prs_grouped.mkdir(parents=True, exist_ok=True)"
   ]
  },
  {
   "cell_type": "code",
   "execution_count": null,
   "id": "5942f7cd-b9fe-4f73-89d2-5b61c7435983",
   "metadata": {},
   "outputs": [],
   "source": [
    "parse_grouped_files = ray.remote(pr_issue_parser.parse_grouped_files)"
   ]
  },
  {
   "cell_type": "code",
   "execution_count": null,
   "id": "106d7d7c-138d-4f1d-8602-949fb9d47126",
   "metadata": {},
   "outputs": [],
   "source": [
    "res = ray_util.ray_map(parse_grouped_files, files, prs_dest=dst_prs_grouped)"
   ]
  },
  {
   "cell_type": "code",
   "execution_count": null,
   "id": "c51c72b7-6313-47ab-9776-1233745fd2fe",
   "metadata": {},
   "outputs": [],
   "source": [
    "res = ray.get(res)"
   ]
  },
  {
   "cell_type": "markdown",
   "id": "ecad868b-d672-4267-b713-d020b6311130",
   "metadata": {},
   "source": [
    "## Ray cluster management"
   ]
  },
  {
   "cell_type": "code",
   "execution_count": null,
   "id": "93a5a5c7-eafe-4dfa-8a4e-cefd5605c608",
   "metadata": {},
   "outputs": [],
   "source": [
    "ray.shutdown()\n",
    "server.scale_cluster(60)"
   ]
  }
 ],
 "metadata": {
  "kernelspec": {
   "display_name": "Python 3 (ipykernel)",
   "language": "python",
   "name": "python3"
  },
  "language_info": {
   "codemirror_mode": {
    "name": "ipython",
    "version": 3
   },
   "file_extension": ".py",
   "mimetype": "text/x-python",
   "name": "python",
   "nbconvert_exporter": "python",
   "pygments_lexer": "ipython3",
   "version": "3.11.6"
  }
 },
 "nbformat": 4,
 "nbformat_minor": 5
}
