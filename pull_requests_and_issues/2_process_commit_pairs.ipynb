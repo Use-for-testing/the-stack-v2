{
 "cells": [
  {
   "cell_type": "code",
   "execution_count": null,
   "id": "918d5f68-2b90-4f0d-a90e-32baedf27f39",
   "metadata": {},
   "outputs": [],
   "source": [
    "%load_ext autoreload\n",
    "%autoreload 2"
   ]
  },
  {
   "cell_type": "code",
   "execution_count": null,
   "id": "58449e85-14df-442d-adfb-380a878d310d",
   "metadata": {},
   "outputs": [],
   "source": [
    "import boto3\n",
    "import aws_util\n",
    "import cfg\n",
    "import yaml\n",
    "import ray\n",
    "from pathlib import Path\n",
    "\n",
    "import regroup\n",
    "import ray_util\n",
    "import util\n",
    "import process_commit_pairs\n",
    "import render"
   ]
  },
  {
   "cell_type": "markdown",
   "id": "ef2d4663-e95e-46d9-ba43-90c15d524ad6",
   "metadata": {},
   "source": [
    "## Ray cluster management "
   ]
  },
  {
   "cell_type": "code",
   "execution_count": null,
   "id": "0327976e-b27b-47d4-9a04-68bcebe217df",
   "metadata": {},
   "outputs": [],
   "source": [
    "import ray_server\n",
    "server = ray_server.get_ray_server()"
   ]
  },
  {
   "cell_type": "code",
   "execution_count": null,
   "id": "ce27b201-7e22-48fa-b646-80eebeb6cac0",
   "metadata": {},
   "outputs": [],
   "source": [
    "server.scale_cluster(60)"
   ]
  },
  {
   "cell_type": "markdown",
   "id": "8087faf4-560f-444e-904a-364d9eb8b867",
   "metadata": {},
   "source": [
    "## Load secrets"
   ]
  },
  {
   "cell_type": "code",
   "execution_count": null,
   "id": "ea60c091-265f-441b-9293-5cc66d7c7c6f",
   "metadata": {},
   "outputs": [],
   "source": [
    "with open('secrets.yaml') as f:\n",
    "    secrets = yaml.safe_load(f)"
   ]
  },
  {
   "cell_type": "markdown",
   "id": "b9b45666-1d98-4cb7-9f02-3dc76d5bd57a",
   "metadata": {},
   "source": [
    "## Get permissive licenses and convert them to sqlite"
   ]
  },
  {
   "cell_type": "code",
   "execution_count": null,
   "id": "430fa2fa-326a-481e-bdc9-a29482090908",
   "metadata": {},
   "outputs": [],
   "source": [
    "aws_util.download_s3._function(\n",
    "    cfg.repo_licenses_s3['bucket'],\n",
    "    [cfg.repo_licenses_s3['path']],\n",
    "    cfg.repo_licenses_path,\n",
    "    secrets['aws_access_key_id'],\n",
    "    secrets['aws_secret_access_key']\n",
    ")"
   ]
  },
  {
   "cell_type": "code",
   "execution_count": null,
   "id": "5f9668d8-c01f-4c67-8131-d2b82a2a4d7e",
   "metadata": {},
   "outputs": [],
   "source": [
    "util.repo_names_licenses_convert_to_sqlite(\n",
    "    cfg.repo_licenses_path / Path(cfg.repo_licenses_s3['path']).name,\n",
    "    cfg.repo_licenses_sqlite_file\n",
    ")"
   ]
  },
  {
   "cell_type": "markdown",
   "id": "b658df85-1399-492d-a153-95962710c451",
   "metadata": {},
   "source": [
    "## Download commit pairs"
   ]
  },
  {
   "cell_type": "code",
   "execution_count": null,
   "id": "43811c36-e5d8-40bd-bdb8-203b47f924da",
   "metadata": {},
   "outputs": [],
   "source": [
    "file_list = aws_util.list_parquet_files_s3(\n",
    "    cfg.commit_paris_files_s3['bucket'],\n",
    "    cfg.commit_paris_files_s3['path'],\n",
    "    secrets['aws_access_key_id'],\n",
    "    secrets['aws_secret_access_key']\n",
    ")"
   ]
  },
  {
   "cell_type": "code",
   "execution_count": null,
   "id": "aa36fe4f-2370-4528-b321-5c666c9716f9",
   "metadata": {},
   "outputs": [],
   "source": [
    "file_groups = regroup.split_items(file_list, 10, False)"
   ]
  },
  {
   "cell_type": "code",
   "execution_count": null,
   "id": "68fa20c7-3465-4632-a530-2b791c7eb100",
   "metadata": {},
   "outputs": [],
   "source": [
    "res = []\n",
    "for gr in file_groups[1:]:\n",
    "    res.append(aws_util.download_s3.remote(\n",
    "        cfg.commit_paris_files_s3['bucket'],\n",
    "        gr,\n",
    "        cfg.pr_commit_pairs_files_path,\n",
    "        secrets['aws_access_key_id'],\n",
    "        secrets['aws_secret_access_key']\n",
    "    ))"
   ]
  },
  {
   "cell_type": "code",
   "execution_count": null,
   "id": "a21617e9-0a68-4adc-9fe1-a7b31d423342",
   "metadata": {},
   "outputs": [],
   "source": [
    "ray_util.ray_tasks_progress(res)\n",
    "res = ray.get(res)"
   ]
  },
  {
   "cell_type": "markdown",
   "id": "179fa9bc-c1c6-40cc-95e3-6e340a09af27",
   "metadata": {},
   "source": [
    "## Get opt outs"
   ]
  },
  {
   "cell_type": "code",
   "execution_count": null,
   "id": "7d3f6901-cc54-4e93-b2b2-d199d6506b58",
   "metadata": {},
   "outputs": [],
   "source": [
    "repos_opt_out, users_for_repo_opt_out, users_for_commits_opt_out, users_for_issues_opt_out = util.get_opt_outs(\n",
    "    src=cfg.opt_outs_dataset_name,\n",
    "    token=secrets['hf_api_key']\n",
    ")"
   ]
  },
  {
   "cell_type": "markdown",
   "id": "2b1138e2-e97e-4557-89cc-a0e568797ebe",
   "metadata": {},
   "source": [
    "## Filter opt outs and non permissive licenses, get range of changed for each file pair, remove new or deleted files "
   ]
  },
  {
   "cell_type": "code",
   "execution_count": null,
   "id": "ef52e72f-f4cc-4480-97f0-3dd07b7173c0",
   "metadata": {},
   "outputs": [],
   "source": [
    "files = list(cfg.pr_commit_pairs_files_path.glob('*.parquet'))\n",
    "dst = cfg.pr_commid_pairs_files_filtered_path\n",
    "dst.mkdir(parents=True, exist_ok=True)\n",
    "max_changes_length = render.RenderParams().max_pr_length"
   ]
  },
  {
   "cell_type": "code",
   "execution_count": null,
   "id": "c098eaf5-3a60-4397-b7c1-ae4180b46f6e",
   "metadata": {},
   "outputs": [],
   "source": [
    "res = []\n",
    "for f in files:\n",
    "    res.append(process_commit_pairs.filter_nonpermissive_opt_outs_and_prepare_commit_pairs.remote(\n",
    "        f, dst, repos_opt_out, users_for_repo_opt_out, max_changes_length, cfg.repo_licenses_sqlite_file\n",
    "    ))"
   ]
  },
  {
   "cell_type": "code",
   "execution_count": null,
   "id": "a7ab2342-1d8b-4457-a841-2c0963a19618",
   "metadata": {},
   "outputs": [],
   "source": [
    "ray_util.ray_tasks_progress(res)\n",
    "res = ray.get(res)"
   ]
  },
  {
   "cell_type": "markdown",
   "id": "c612c7a7-9f7e-4fd1-8d1b-743b6427845f",
   "metadata": {},
   "source": [
    "## Filter files by content"
   ]
  },
  {
   "cell_type": "code",
   "execution_count": null,
   "id": "099b0990-bd20-4035-9641-1af43595c615",
   "metadata": {},
   "outputs": [],
   "source": [
    "files = list(cfg.pr_commid_pairs_files_filtered_path.glob('*.parquet'))\n",
    "dst  = cfg.pr_commid_pairs_files_filtered_cleaned_path\n",
    "dst.mkdir(parents=True, exist_ok=True)"
   ]
  },
  {
   "cell_type": "code",
   "execution_count": null,
   "id": "888d58dc-51be-4b2a-9b14-118a7ac3f53c",
   "metadata": {},
   "outputs": [],
   "source": [
    "params = process_commit_pairs.FilterParams()\n",
    "res = ray_util.ray_map(\n",
    "    process_commit_pairs.clean_files_bucket,\n",
    "    files,\n",
    "    dst=dst,\n",
    "    filter_params=params\n",
    ")\n"
   ]
  },
  {
   "cell_type": "code",
   "execution_count": null,
   "id": "98c38270-d6bc-4bef-a4e2-2b971466c6b7",
   "metadata": {},
   "outputs": [],
   "source": [
    "ray_util.ray_tasks_progress(res)\n",
    "res = ray.get(res)"
   ]
  },
  {
   "cell_type": "code",
   "execution_count": null,
   "id": "b44098fd-82ee-4d96-9935-1089d56cad11",
   "metadata": {},
   "outputs": [],
   "source": [
    "res = regroup.ray_shuffle.remote(\n",
    "    cfg.pr_commid_pairs_files_filtered_cleaned_path,\n",
    "    cfg.pr_commid_pairs_files_filtered_cleaned_grouped_path,\n",
    "    'pull_request.guid',\n",
    "    3\n",
    ")"
   ]
  },
  {
   "cell_type": "code",
   "execution_count": null,
   "id": "2ab3999f-237a-4c9d-a08a-609f546954c9",
   "metadata": {
    "scrolled": true
   },
   "outputs": [],
   "source": [
    "res = ray.get(res)"
   ]
  },
  {
   "cell_type": "markdown",
   "id": "b0feaaaf-a0e4-4879-b650-fb221ff1fe53",
   "metadata": {},
   "source": [
    "## Ray cluster management"
   ]
  },
  {
   "cell_type": "code",
   "execution_count": null,
   "id": "78d37c97-e617-4c64-80d3-b4e1a25ea1ab",
   "metadata": {},
   "outputs": [],
   "source": [
    "ray.shutdown()\n",
    "server.scale_cluster(0)"
   ]
  }
 ],
 "metadata": {
  "kernelspec": {
   "display_name": "Python 3 (ipykernel)",
   "language": "python",
   "name": "python3"
  },
  "language_info": {
   "codemirror_mode": {
    "name": "ipython",
    "version": 3
   },
   "file_extension": ".py",
   "mimetype": "text/x-python",
   "name": "python",
   "nbconvert_exporter": "python",
   "pygments_lexer": "ipython3",
   "version": "3.11.6"
  }
 },
 "nbformat": 4,
 "nbformat_minor": 5
}
